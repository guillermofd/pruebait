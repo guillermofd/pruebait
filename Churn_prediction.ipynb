{
 "cells": [
  {
   "cell_type": "markdown",
   "metadata": {},
   "source": [
    "## Churn prediction"
   ]
  },
  {
   "cell_type": "markdown",
   "metadata": {},
   "source": [
    "This notebook analyzes the customer data from a telecommunications company and, based on the features of the clients that unsubscribe from the previous month, it will try to predict which clients will unsubscribe this month.\n",
    "\n",
    "It could be very useful to manage market campaigns to those clients with a high probability of unsubscribe."
   ]
  },
  {
   "cell_type": "markdown",
   "metadata": {},
   "source": [
    "### Extract, clean and transform the data"
   ]
  },
  {
   "cell_type": "code",
   "execution_count": 3,
   "metadata": {},
   "outputs": [
    {
     "name": "stderr",
     "output_type": "stream",
     "text": [
      "C:\\ProgramData\\Anaconda3\\lib\\site-packages\\statsmodels\\tools\\_testing.py:19: FutureWarning: pandas.util.testing is deprecated. Use the functions in the public API at pandas.testing instead.\n",
      "  import pandas.util.testing as tm\n"
     ]
    }
   ],
   "source": [
    "#Start by importing the needed packages\n",
    "\n",
    "import numpy as np\n",
    "import pandas as pd\n",
    "import datetime\n",
    "import seaborn as sns\n",
    "import matplotlib.pyplot as plt\n",
    "import warnings\n",
    "warnings.simplefilter('ignore')"
   ]
  },
  {
   "cell_type": "markdown",
   "metadata": {},
   "source": [
    "For each month, we have four files with the following information: \n",
    "* customers_month\n",
    "    1. **id**.- id of the client\n",
    "    2. **age**.- age of the client\n",
    "    3. **billing**.- money the client have spent during the month\n",
    "    4. **activation_date**.- when she starts being client\n",
    "    5. **province**.- province (of Spain) where the client lives\n",
    "    6. **phone_lines** number of phone lines the client has with the company\n",
    "    7. **default_lines** number of phone lines the client failed to pay\n",
    "    8. **incident** YES if the client had an incident or complaint\n",
    "* spendings_month\n",
    "    1. **id**.- id of the client\n",
    "    2. **incoming_calls**.- number of incoming calls in all of the client's lines\n",
    "    3. **outgoing_calls**.- number of outgoing calls in all of the client's lines\n",
    "    4. **mb_data**.- Megabytes spent in all of the client's lines\n",
    "    5. **secs_incoming_calls**.- seconds of incoming calls in all of the client's lines\n",
    "    6. **secs_outgoing_calls**.- seconds of outgoing calls in all of the client's lines\n",
    "* products_month\n",
    "    1. **id**.- id of the client\n",
    "    2. **connection**.- internet connection type hired by the client\n",
    "    3. **connection_speed**.- connection speed hired by the client\n",
    "    4. **TV**.- pay-television offer hired by the client\n",
    "* financing_month\n",
    "    1. **id**.- id of the client\n",
    "    2. **financing**.- YES if the cliente has financed the purchase of any device\n",
    "    3. **financ_amount** .- monthly amount the client pays for the devices she has financed\n",
    "    4. **discounts**.- YES if the client benefit from any discount (marketing campaigns)\n",
    "    "
   ]
  },
  {
   "cell_type": "markdown",
   "metadata": {},
   "source": [
    "The target variable (¿has the client unsubscribe?) should be created comparing two consecutive months, getting the id clients of one month that are not present in the following one. We have data for the months of december and january so, we should merge the four files for each month and identify which clients has unsubscribed during december."
   ]
  },
  {
   "cell_type": "code",
   "execution_count": 29,
   "metadata": {},
   "outputs": [
    {
     "name": "stdout",
     "output_type": "stream",
     "text": [
      "95467 clients in December\n"
     ]
    },
    {
     "data": {
      "text/html": [
       "<div>\n",
       "<style scoped>\n",
       "    .dataframe tbody tr th:only-of-type {\n",
       "        vertical-align: middle;\n",
       "    }\n",
       "\n",
       "    .dataframe tbody tr th {\n",
       "        vertical-align: top;\n",
       "    }\n",
       "\n",
       "    .dataframe thead th {\n",
       "        text-align: right;\n",
       "    }\n",
       "</style>\n",
       "<table border=\"1\" class=\"dataframe\">\n",
       "  <thead>\n",
       "    <tr style=\"text-align: right;\">\n",
       "      <th></th>\n",
       "      <th>id</th>\n",
       "      <th>age</th>\n",
       "      <th>billing</th>\n",
       "      <th>activation_date</th>\n",
       "      <th>province</th>\n",
       "      <th>phone_lines</th>\n",
       "      <th>defaulted_lines</th>\n",
       "      <th>incident</th>\n",
       "    </tr>\n",
       "  </thead>\n",
       "  <tbody>\n",
       "    <tr>\n",
       "      <th>0</th>\n",
       "      <td>1</td>\n",
       "      <td>63</td>\n",
       "      <td>216.028109</td>\n",
       "      <td>11/23/2018 08:48 AM</td>\n",
       "      <td>La Rioja</td>\n",
       "      <td>5</td>\n",
       "      <td>NaN</td>\n",
       "      <td>NaN</td>\n",
       "    </tr>\n",
       "    <tr>\n",
       "      <th>1</th>\n",
       "      <td>2</td>\n",
       "      <td>84</td>\n",
       "      <td>255.830842</td>\n",
       "      <td>08/22/2017 03:19 AM</td>\n",
       "      <td>Vizcaya</td>\n",
       "      <td>3</td>\n",
       "      <td>NaN</td>\n",
       "      <td>NaN</td>\n",
       "    </tr>\n",
       "    <tr>\n",
       "      <th>2</th>\n",
       "      <td>3</td>\n",
       "      <td>66</td>\n",
       "      <td>135.768153</td>\n",
       "      <td>12/27/2001 01:50 PM</td>\n",
       "      <td>Albacete</td>\n",
       "      <td>4</td>\n",
       "      <td>NaN</td>\n",
       "      <td>NaN</td>\n",
       "    </tr>\n",
       "    <tr>\n",
       "      <th>3</th>\n",
       "      <td>4</td>\n",
       "      <td>69</td>\n",
       "      <td>255.658527</td>\n",
       "      <td>08/08/2015 10:53 AM</td>\n",
       "      <td>Lugo</td>\n",
       "      <td>4</td>\n",
       "      <td>NaN</td>\n",
       "      <td>NaN</td>\n",
       "    </tr>\n",
       "    <tr>\n",
       "      <th>4</th>\n",
       "      <td>5</td>\n",
       "      <td>25</td>\n",
       "      <td>22.302845</td>\n",
       "      <td>08/29/1997 02:19 AM</td>\n",
       "      <td>Tarragona</td>\n",
       "      <td>2</td>\n",
       "      <td>2.0</td>\n",
       "      <td>NaN</td>\n",
       "    </tr>\n",
       "  </tbody>\n",
       "</table>\n",
       "</div>"
      ],
      "text/plain": [
       "   id  age     billing      activation_date   province  phone_lines  \\\n",
       "0   1   63  216.028109  11/23/2018 08:48 AM   La Rioja            5   \n",
       "1   2   84  255.830842  08/22/2017 03:19 AM    Vizcaya            3   \n",
       "2   3   66  135.768153  12/27/2001 01:50 PM   Albacete            4   \n",
       "3   4   69  255.658527  08/08/2015 10:53 AM       Lugo            4   \n",
       "4   5   25   22.302845  08/29/1997 02:19 AM  Tarragona            2   \n",
       "\n",
       "   defaulted_lines incident  \n",
       "0              NaN      NaN  \n",
       "1              NaN      NaN  \n",
       "2              NaN      NaN  \n",
       "3              NaN      NaN  \n",
       "4              2.0      NaN  "
      ]
     },
     "execution_count": 29,
     "metadata": {},
     "output_type": "execute_result"
    }
   ],
   "source": [
    "#Read december data\n",
    "clients_dec = pd.read_csv('data/december/customers_december.csv', sep='|')\n",
    "print('{} clients in December'.format(len(clients_dec)))\n",
    "clients_dec.head()"
   ]
  },
  {
   "cell_type": "code",
   "execution_count": 10,
   "metadata": {},
   "outputs": [
    {
     "data": {
      "text/html": [
       "<div>\n",
       "<style scoped>\n",
       "    .dataframe tbody tr th:only-of-type {\n",
       "        vertical-align: middle;\n",
       "    }\n",
       "\n",
       "    .dataframe tbody tr th {\n",
       "        vertical-align: top;\n",
       "    }\n",
       "\n",
       "    .dataframe thead th {\n",
       "        text-align: right;\n",
       "    }\n",
       "</style>\n",
       "<table border=\"1\" class=\"dataframe\">\n",
       "  <thead>\n",
       "    <tr style=\"text-align: right;\">\n",
       "      <th></th>\n",
       "      <th>id</th>\n",
       "      <th>incoming_calls</th>\n",
       "      <th>outgoing_callsl</th>\n",
       "      <th>mb_data</th>\n",
       "      <th>secs_incoming_calls</th>\n",
       "      <th>secs_outgoing_calls</th>\n",
       "    </tr>\n",
       "  </thead>\n",
       "  <tbody>\n",
       "    <tr>\n",
       "      <th>0</th>\n",
       "      <td>1</td>\n",
       "      <td>110</td>\n",
       "      <td>79</td>\n",
       "      <td>10897</td>\n",
       "      <td>12806</td>\n",
       "      <td>13751</td>\n",
       "    </tr>\n",
       "    <tr>\n",
       "      <th>1</th>\n",
       "      <td>2</td>\n",
       "      <td>189</td>\n",
       "      <td>89</td>\n",
       "      <td>18657</td>\n",
       "      <td>6499</td>\n",
       "      <td>10862</td>\n",
       "    </tr>\n",
       "    <tr>\n",
       "      <th>2</th>\n",
       "      <td>3</td>\n",
       "      <td>129</td>\n",
       "      <td>30</td>\n",
       "      <td>15511</td>\n",
       "      <td>17013</td>\n",
       "      <td>16743</td>\n",
       "    </tr>\n",
       "    <tr>\n",
       "      <th>3</th>\n",
       "      <td>4</td>\n",
       "      <td>51</td>\n",
       "      <td>52</td>\n",
       "      <td>12670</td>\n",
       "      <td>3393</td>\n",
       "      <td>6771</td>\n",
       "    </tr>\n",
       "    <tr>\n",
       "      <th>4</th>\n",
       "      <td>5</td>\n",
       "      <td>183</td>\n",
       "      <td>3</td>\n",
       "      <td>23756</td>\n",
       "      <td>18436</td>\n",
       "      <td>4485</td>\n",
       "    </tr>\n",
       "  </tbody>\n",
       "</table>\n",
       "</div>"
      ],
      "text/plain": [
       "   id  incoming_calls  outgoing_callsl  mb_data  secs_incoming_calls  \\\n",
       "0   1             110               79    10897                12806   \n",
       "1   2             189               89    18657                 6499   \n",
       "2   3             129               30    15511                17013   \n",
       "3   4              51               52    12670                 3393   \n",
       "4   5             183                3    23756                18436   \n",
       "\n",
       "   secs_outgoing_calls  \n",
       "0                13751  \n",
       "1                10862  \n",
       "2                16743  \n",
       "3                 6771  \n",
       "4                 4485  "
      ]
     },
     "execution_count": 10,
     "metadata": {},
     "output_type": "execute_result"
    }
   ],
   "source": [
    "spendings_dec = pd.read_csv('data/december/spending_december.csv', sep='|')\n",
    "spendings_dec.head()"
   ]
  },
  {
   "cell_type": "code",
   "execution_count": 15,
   "metadata": {},
   "outputs": [
    {
     "data": {
      "text/html": [
       "<div>\n",
       "<style scoped>\n",
       "    .dataframe tbody tr th:only-of-type {\n",
       "        vertical-align: middle;\n",
       "    }\n",
       "\n",
       "    .dataframe tbody tr th {\n",
       "        vertical-align: top;\n",
       "    }\n",
       "\n",
       "    .dataframe thead th {\n",
       "        text-align: right;\n",
       "    }\n",
       "</style>\n",
       "<table border=\"1\" class=\"dataframe\">\n",
       "  <thead>\n",
       "    <tr style=\"text-align: right;\">\n",
       "      <th></th>\n",
       "      <th>id</th>\n",
       "      <th>financing</th>\n",
       "      <th>financ_amount</th>\n",
       "      <th>discounts</th>\n",
       "    </tr>\n",
       "  </thead>\n",
       "  <tbody>\n",
       "    <tr>\n",
       "      <th>0</th>\n",
       "      <td>2</td>\n",
       "      <td>NaN</td>\n",
       "      <td>NaN</td>\n",
       "      <td>YES</td>\n",
       "    </tr>\n",
       "    <tr>\n",
       "      <th>1</th>\n",
       "      <td>3</td>\n",
       "      <td>NaN</td>\n",
       "      <td>NaN</td>\n",
       "      <td>YES</td>\n",
       "    </tr>\n",
       "    <tr>\n",
       "      <th>2</th>\n",
       "      <td>7</td>\n",
       "      <td>YES</td>\n",
       "      <td>31.553269</td>\n",
       "      <td>NaN</td>\n",
       "    </tr>\n",
       "    <tr>\n",
       "      <th>3</th>\n",
       "      <td>11</td>\n",
       "      <td>NaN</td>\n",
       "      <td>NaN</td>\n",
       "      <td>YES</td>\n",
       "    </tr>\n",
       "    <tr>\n",
       "      <th>4</th>\n",
       "      <td>12</td>\n",
       "      <td>NaN</td>\n",
       "      <td>NaN</td>\n",
       "      <td>YES</td>\n",
       "    </tr>\n",
       "  </tbody>\n",
       "</table>\n",
       "</div>"
      ],
      "text/plain": [
       "   id financing  financ_amount discounts\n",
       "0   2       NaN            NaN       YES\n",
       "1   3       NaN            NaN       YES\n",
       "2   7       YES      31.553269       NaN\n",
       "3  11       NaN            NaN       YES\n",
       "4  12       NaN            NaN       YES"
      ]
     },
     "execution_count": 15,
     "metadata": {},
     "output_type": "execute_result"
    }
   ],
   "source": [
    "financing_dec = pd.read_csv('data/december/financing_december.csv', sep='|')\n",
    "financing_dec.head()"
   ]
  },
  {
   "cell_type": "code",
   "execution_count": 12,
   "metadata": {},
   "outputs": [
    {
     "data": {
      "text/html": [
       "<div>\n",
       "<style scoped>\n",
       "    .dataframe tbody tr th:only-of-type {\n",
       "        vertical-align: middle;\n",
       "    }\n",
       "\n",
       "    .dataframe tbody tr th {\n",
       "        vertical-align: top;\n",
       "    }\n",
       "\n",
       "    .dataframe thead th {\n",
       "        text-align: right;\n",
       "    }\n",
       "</style>\n",
       "<table border=\"1\" class=\"dataframe\">\n",
       "  <thead>\n",
       "    <tr style=\"text-align: right;\">\n",
       "      <th></th>\n",
       "      <th>id</th>\n",
       "      <th>connection</th>\n",
       "      <th>connection_speed</th>\n",
       "      <th>TV</th>\n",
       "    </tr>\n",
       "  </thead>\n",
       "  <tbody>\n",
       "    <tr>\n",
       "      <th>0</th>\n",
       "      <td>1</td>\n",
       "      <td>FIBRA</td>\n",
       "      <td>50MB</td>\n",
       "      <td>tv-futbol</td>\n",
       "    </tr>\n",
       "    <tr>\n",
       "      <th>1</th>\n",
       "      <td>2</td>\n",
       "      <td>FIBRA</td>\n",
       "      <td>600MB</td>\n",
       "      <td>tv-futbol</td>\n",
       "    </tr>\n",
       "    <tr>\n",
       "      <th>2</th>\n",
       "      <td>3</td>\n",
       "      <td>ADSL</td>\n",
       "      <td>35MB</td>\n",
       "      <td>tv-futbol</td>\n",
       "    </tr>\n",
       "    <tr>\n",
       "      <th>3</th>\n",
       "      <td>4</td>\n",
       "      <td>FIBRA</td>\n",
       "      <td>200MB</td>\n",
       "      <td>tv-familiar</td>\n",
       "    </tr>\n",
       "    <tr>\n",
       "      <th>4</th>\n",
       "      <td>5</td>\n",
       "      <td>ADSL</td>\n",
       "      <td>10MB</td>\n",
       "      <td>tv-futbol</td>\n",
       "    </tr>\n",
       "  </tbody>\n",
       "</table>\n",
       "</div>"
      ],
      "text/plain": [
       "   id connection connection_speed           TV\n",
       "0   1      FIBRA             50MB    tv-futbol\n",
       "1   2      FIBRA            600MB    tv-futbol\n",
       "2   3       ADSL             35MB    tv-futbol\n",
       "3   4      FIBRA            200MB  tv-familiar\n",
       "4   5       ADSL             10MB    tv-futbol"
      ]
     },
     "execution_count": 12,
     "metadata": {},
     "output_type": "execute_result"
    }
   ],
   "source": [
    "products_dec = pd.read_csv('data/december/products_december.csv', sep='|')\n",
    "products_dec.head()"
   ]
  },
  {
   "cell_type": "code",
   "execution_count": 19,
   "metadata": {},
   "outputs": [
    {
     "name": "stdout",
     "output_type": "stream",
     "text": [
      "The monthly file with all the information has 19 columns\n"
     ]
    }
   ],
   "source": [
    "#Merge the 4 december files\n",
    "december = clients_dec.merge(right=spendings_dec, on='id', how='outer')\n",
    "december = december.merge(right=financing_dec, on='id',how='outer')\n",
    "december = december.merge(right=products_dec, on='id',how='outer')\n",
    "print('The monthly file with all the information has {} columns'.format(december.shape[1]))"
   ]
  },
  {
   "cell_type": "code",
   "execution_count": 21,
   "metadata": {},
   "outputs": [
    {
     "name": "stdout",
     "output_type": "stream",
     "text": [
      "The january file with all the information has 19 columns\n"
     ]
    }
   ],
   "source": [
    "#The same read and merge process for january\n",
    "clients_jan = pd.read_csv('data/january/customers_january.csv', sep='|')\n",
    "spendings_jan = pd.read_csv('data/january/spending_january.csv', sep='|')\n",
    "financing_jan = pd.read_csv('data/january/financing_january.csv', sep='|')\n",
    "products_jan = pd.read_csv('data/january/products_january.csv', sep='|')\n",
    "\n",
    "january = clients_jan.merge(right=spendings_jan, on='id', how='outer')\n",
    "january = january.merge(right=financing_jan, on='id',how='outer')\n",
    "january = january.merge(right=products_jan, on='id',how='outer')\n",
    "print('The january file with all the information has {} columns'.format(january.shape[1]))"
   ]
  },
  {
   "cell_type": "markdown",
   "metadata": {},
   "source": [
    "#### Target variable\n",
    "Now we have all the information to identify the clients who leave the company in december. This will be the target variable we will try to predict.\n"
   ]
  },
  {
   "cell_type": "code",
   "execution_count": 22,
   "metadata": {},
   "outputs": [],
   "source": [
    "december['Cancellation'] = december.id.isin(january.id)==False"
   ]
  },
  {
   "cell_type": "code",
   "execution_count": 34,
   "metadata": {},
   "outputs": [
    {
     "name": "stdout",
     "output_type": "stream",
     "text": [
      "7085 clients leave in December. It means a churn rate of 7.42%\n"
     ]
    }
   ],
   "source": [
    "print('{} clients leave in December. It means a churn rate of {:.2f}%'.format(december.Cancellation.sum(),december.Cancellation.sum()*100/len(december)))"
   ]
  }
 ],
 "metadata": {
  "kernelspec": {
   "display_name": "Python 3",
   "language": "python",
   "name": "python3"
  },
  "language_info": {
   "codemirror_mode": {
    "name": "ipython",
    "version": 3
   },
   "file_extension": ".py",
   "mimetype": "text/x-python",
   "name": "python",
   "nbconvert_exporter": "python",
   "pygments_lexer": "ipython3",
   "version": "3.7.3"
  }
 },
 "nbformat": 4,
 "nbformat_minor": 2
}
